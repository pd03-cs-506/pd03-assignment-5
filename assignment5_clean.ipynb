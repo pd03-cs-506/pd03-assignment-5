{
 "cells": [
  {
   "cell_type": "markdown",
   "metadata": {},
   "source": [
    "## Imports"
   ]
  },
  {
   "cell_type": "code",
   "execution_count": 43,
   "metadata": {},
   "outputs": [],
   "source": [
    "import numpy as np\n",
    "import pandas as pd\n",
    "from collections import Counter"
   ]
  },
  {
   "cell_type": "markdown",
   "metadata": {},
   "source": [
    "- Customer ID: A unique identifier for each customer\n",
    "- Surname: The customer's surname or last name\n",
    "- Credit Score: A numerical value representing the customer's credit score\n",
    "- Geography: The country where the customer resides (France, Spain or Germany)\n",
    "- Gender: The customer's gender (Male or Female)\n",
    "- Age: The customer's age.\n",
    "- Tenure: The number of years the customer has been with the bank\n",
    "- Balance: The customer's account balance\n",
    "- NumOfProducts: The number of bank products the customer uses (e.g., savings account, credit card)\n",
    "- HasCrCard: Whether the customer has a credit card (1 = yes, 0 = no)\n",
    "- IsActiveMember: Whether the customer is an active member (1 = yes, 0 = no)\n",
    "- EstimatedSalary: The estimated salary of the customer\n",
    "- **Exited: Whether the customer has churned (1 = yes, 0 = no)**"
   ]
  },
  {
   "cell_type": "markdown",
   "metadata": {},
   "source": [
    "## Clean Data"
   ]
  },
  {
   "cell_type": "code",
   "execution_count": 131,
   "metadata": {},
   "outputs": [],
   "source": [
    "train_data = pd.read_csv(\"train.csv\")\n",
    "test_data = pd.read_csv(\"test.csv\")\n",
    "\n",
    "train_data = train_data.drop(['CustomerId', 'Surname', 'id'], axis=1)\n",
    "test_data = test_data.drop(['CustomerId', 'Surname', 'id'], axis=1)\n"
   ]
  },
  {
   "cell_type": "markdown",
   "metadata": {},
   "source": [
    "## KNN Object"
   ]
  },
  {
   "cell_type": "code",
   "execution_count": 103,
   "metadata": {},
   "outputs": [],
   "source": [
    "# Define the KNN class\n",
    "class KNN:\n",
    "    def __init__(self, k=3, distance_metric='euclidean'):\n",
    "        self.k = k\n",
    "        self.distance_metric = distance_metric\n",
    "\n",
    "    def fit(self, X, y):\n",
    "        self.X_train = np.array(X)\n",
    "        self.y_train = np.array(y)\n",
    "\n",
    "    def predict(self, X):\n",
    "        \"\"\" \n",
    "            X: numpy.ndarray of X_test\n",
    "        \"\"\"\n",
    "        predictions = []\n",
    "        for i, row in enumerate(X):\n",
    "            # print(f\"predicting {i} out of {len(X)}\")\n",
    "            predictions.append(self.predict_single_point(row))\n",
    "            # print(\"====================================================\")\n",
    "        return np.array(predictions)\n",
    "    \n",
    "    def predict_single_point(self, x):\n",
    "        # compute distances from the test point to all training points\n",
    "        distances = [self.compute_distance(x, x_train_point) for x_train_point in self.X_train]\n",
    "        \n",
    "        # get the indices of the k nearest neighbors\n",
    "        k_indices = np.argsort(distances)[:self.k]\n",
    "        # print(f\"THE K INDICES ARE {k_indices}\")\n",
    "\n",
    "        # get the labels of the k nearest neighbors\n",
    "        k_nearest_labels = [self.y_train[i] for i in k_indices]\n",
    "        \n",
    "        # return the most common label among the nearest neighbors\n",
    "        most_common_label = Counter(k_nearest_labels).most_common(1)[0][0]\n",
    "        \n",
    "        # print(f\"predicted: {most_common_label}\")\n",
    "        \n",
    "        return most_common_label\n",
    "\n",
    "    def compute_distance(self, X1, X2):\n",
    "        if self.distance_metric == 'euclidean':\n",
    "            return np.linalg.norm(X1 - X2)\n",
    "        \n",
    "        elif self.distance_metric == 'manhattan':\n",
    "            return np.sum(np.abs(X1 - X2))\n",
    "\n",
    "        elif self.distance_metric == 'cosine':\n",
    "            dot_product = np.dot(X1, X2)\n",
    "            norm_product = np.linalg.norm(X1) * np.linalg.norm(X2)\n",
    "            return 1 - dot_product / norm_product \n",
    "        \n",
    "        elif self.distance_metric == 'minkowski':\n",
    "            return np.sum(np.abs(X1 - X2) ** 2) ** (1 / 2)\n",
    "        \n",
    "        elif self.distance_metric == 'hamming':\n",
    "            return np.sum(X1 != X2)\n",
    "        "
   ]
  },
  {
   "cell_type": "markdown",
   "metadata": {},
   "source": [
    "## Pre-processing Function"
   ]
  },
  {
   "cell_type": "code",
   "execution_count": 230,
   "metadata": {},
   "outputs": [],
   "source": [
    "# Define data preprocessing function\n",
    "\n",
    "def standard_scaler(data, columns):\n",
    "    \"\"\"\n",
    "        Data is a pandas df, columns is column indices that are int/float\n",
    "        Formula: (X - mean) / std\n",
    "    \"\"\"\n",
    "    scaled_data = data.copy()\n",
    "    for col in columns:\n",
    "        mean = scaled_data[col].mean()\n",
    "        std = scaled_data[col].std()\n",
    "        scaled_data[col] = (scaled_data[col] - mean) / std\n",
    "    return scaled_data\n",
    "\n",
    "def one_hot_encode(data, columns):\n",
    "    \"\"\"\n",
    "        Data is a pandas df, columns is column indices that are int/float\n",
    "    \"\"\"\n",
    "    return pd.get_dummies(data, columns=columns, drop_first=True)\n",
    "\n",
    "def preprocess_data(train_data, test_data):\n",
    "    \"\"\"\n",
    "        train_data is full train data as pandas df\n",
    "        same for test_data\n",
    "\n",
    "        Apply standardscalar to num\n",
    "        and categorical encoder to int\n",
    "    \"\"\"\n",
    "\n",
    "    # X_train = train_data\n",
    "    y_train = train_data['Exited']\n",
    "    X_train = train_data.drop(columns=['Exited'], axis=1)\n",
    "    X_test = test_data\n",
    "\n",
    "    # SELECT NUM/CAT FOR TRAINING\n",
    "    numerical_cols_train = X_train.select_dtypes(include=['float64', 'int64']).columns\n",
    "    categorical_cols_train = X_train.select_dtypes(include=['object']).columns\n",
    "\n",
    "    # SELECT NUM/CAT FOR TESTING\n",
    "    numerical_cols_test = X_test.select_dtypes(include=['float64', 'int64']).columns\n",
    "    categorical_cols_test = X_test.select_dtypes(include=['object']).columns\n",
    "    \n",
    "    X_train_scaled = standard_scaler(X_train, numerical_cols_train)\n",
    "    X_test_scaled = standard_scaler(X_test, numerical_cols_test)\n",
    "\n",
    "    X_train_processed = one_hot_encode(X_train_scaled, categorical_cols_train)\n",
    "    X_test_processed = one_hot_encode(X_test_scaled, categorical_cols_test)\n",
    "    \n",
    "    return X_train_processed.values, y_train.values, X_test_processed.values"
   ]
  },
  {
   "cell_type": "markdown",
   "metadata": {},
   "source": [
    "## Cross-validation Function"
   ]
  },
  {
   "cell_type": "code",
   "execution_count": 111,
   "metadata": {},
   "outputs": [],
   "source": [
    "# Define cross-validation function\n",
    "\n",
    "def manual_kfold_split(X, y, n_splits=5):\n",
    "    indices = np.arange(len(X))\n",
    "    fold_size = len(X) // n_splits\n",
    "    folds = []\n",
    "\n",
    "    for i in range(n_splits):\n",
    "        start = i * fold_size\n",
    "        if i == n_splits - 1:\n",
    "            end = len(X)\n",
    "        else:\n",
    "            end = (i + 1) * fold_size\n",
    "\n",
    "        val_indices = indices[start:end]\n",
    "        train_indices = np.concatenate([indices[:start], indices[end:]])\n",
    "\n",
    "        folds.append((train_indices, val_indices))\n",
    "    \n",
    "    return folds\n",
    "\n",
    "def compute_roc_auc(y_true, y_pred):\n",
    "    \"\"\"\n",
    "        y_true: Array of actual class\n",
    "        y_pred: Array of predicted class\n",
    "    \"\"\"\n",
    "    # True positives, false positives, true negatives, false negatives\n",
    "    TP = np.sum((y_true == 1) & (y_pred == 1))\n",
    "    TN = np.sum((y_true == 0) & (y_pred == 0))\n",
    "    FP = np.sum((y_true == 0) & (y_pred == 1))\n",
    "    FN = np.sum((y_true == 1) & (y_pred == 0))\n",
    "\n",
    "    TPR = TP / (TP + FN) if (TP + FN) > 0 else 0  \n",
    "    FPR = FP / (FP + TN) if (FP + TN) > 0 else 0 \n",
    "\n",
    "    auc = (1 + TPR - FPR) / 2\n",
    "\n",
    "    return auc\n",
    "\n",
    "def cross_validate(X, y, knn, n_splits=5):\n",
    "    # TODO: Implement cross-validation\n",
    "    # Compute ROC AUC scores\n",
    "    \"\"\"\n",
    "        X: training data features\n",
    "        y: train data results\n",
    "        knn: knn object \n",
    "        n_splits: number of folds for cross-validation\n",
    "    \"\"\"\n",
    "\n",
    "    # split data\n",
    "    folds = manual_kfold_split(X, y, n_splits)\n",
    "    cv_scores = []\n",
    "\n",
    "    for train_index, val_index in folds:\n",
    "        X_train, X_val = X[train_index], X[val_index]\n",
    "        y_train, y_val = y[train_index], y[val_index]\n",
    "\n",
    "        knn.fit(X_train, y_train)\n",
    "\n",
    "        y_val_pred = knn.predict(X_val)\n",
    "\n",
    "        auc_score = compute_roc_auc(y_val, y_val_pred)\n",
    "        cv_scores.append(auc_score)\n",
    "\n",
    "    mean_auc = np.mean(cv_scores)\n",
    "    \n",
    "    return mean_auc"
   ]
  },
  {
   "cell_type": "code",
   "execution_count": 129,
   "metadata": {},
   "outputs": [
    {
     "name": "stdout",
     "output_type": "stream",
     "text": [
      "Cross-validation scores: 0.7541379063441267\n"
     ]
    }
   ],
   "source": [
    "# Sample for cross-validation\n",
    "X_train, y_train, X_test = preprocess_data(train_data, test_data)\n",
    "\n",
    "knn = KNN(k=5, distance_metric='minkowski')\n",
    "knn.fit(X_train, y_train)\n",
    "\n",
    "cv_scores = cross_validate(X_train[:1000], y_train[:1000], knn)\n",
    "\n",
    "print(\"Cross-validation scores:\", cv_scores)"
   ]
  },
  {
   "cell_type": "markdown",
   "metadata": {},
   "source": [
    "## Make Prediction Function"
   ]
  },
  {
   "cell_type": "code",
   "execution_count": 231,
   "metadata": {},
   "outputs": [],
   "source": [
    "# Make predictions on test\n",
    "\n",
    "def make_prediction(n_neighbors, X_train, y_train):\n",
    "    \"\"\" \n",
    "        n_neighors is k value for knn\n",
    "        X_train and y_train is features + results of training data as np array\n",
    "    \"\"\"\n",
    "    knn = KNN(k=n_neighbors, distance_metric='euclidean')\n",
    "    knn.fit(X_train, y_train)\n",
    "    predictions = knn.predict(X_test)\n",
    "    \n",
    "    return predictions"
   ]
  },
  {
   "cell_type": "code",
   "execution_count": 116,
   "metadata": {},
   "outputs": [
    {
     "name": "stdout",
     "output_type": "stream",
     "text": [
      "cv scores for k=1 is 0.7358824911889486\n",
      "cv scores for k=2 is 0.7358824911889486\n",
      "cv scores for k=3 is 0.738076576159838\n",
      "cv scores for k=4 is 0.7447870144522485\n",
      "cv scores for k=5 is 0.7541379063441267\n",
      "cv scores for k=6 is 0.7395440117441825\n",
      "cv scores for k=7 is 0.7237811729741781\n",
      "cv scores for k=8 is 0.7342569105004643\n",
      "cv scores for k=9 is 0.714410556566554\n",
      "cv scores for k=10 is 0.7374420040870776\n",
      "best result is 5 neighbors\n"
     ]
    },
    {
     "data": {
      "text/plain": [
       "5"
      ]
     },
     "execution_count": 116,
     "metadata": {},
     "output_type": "execute_result"
    }
   ],
   "source": [
    "# Hyperparameter Tuning\n",
    "def hparam_tune(max_range, distance_metric, X_train, y_train):\n",
    "\n",
    "    n_neighbors_values = range(1, max_range+1)\n",
    "    all_cv_scores = []\n",
    "\n",
    "    for n_neighbors in n_neighbors_values:\n",
    "        knn = KNN(k=n_neighbors, distance_metric=distance_metric)\n",
    "        knn.fit(X_train, y_train)\n",
    "\n",
    "        cv_score = cross_validate(X_train[:1000], y_train[:1000], knn)\n",
    "        all_cv_scores.append(cv_score)\n",
    "        print(f\"cv scores for k={n_neighbors} is {cv_score}\")\n",
    "\n",
    "    k_best = n_neighbors_values[np.argmax(all_cv_scores)]\n",
    "    print(f\"best result is {k_best} neighbors\")\n",
    "    return k_best\n",
    "\n",
    "hparam_tune(10, 'euclidean', X_train, y_train)"
   ]
  },
  {
   "cell_type": "markdown",
   "metadata": {},
   "source": [
    "## Balance Dataset"
   ]
  },
  {
   "cell_type": "code",
   "execution_count": 16,
   "metadata": {},
   "outputs": [
    {
     "name": "stdout",
     "output_type": "stream",
     "text": [
      "cv scores for k=1 is 0.7587379768166812\n",
      "cv scores for k=2 is 0.7587379768166812\n",
      "cv scores for k=3 is 0.7860051218139782\n",
      "cv scores for k=4 is 0.7848117883191423\n",
      "cv scores for k=5 is 0.796381678773088\n",
      "cv scores for k=6 is 0.7999965748291029\n",
      "cv scores for k=7 is 0.8072815193923806\n",
      "cv scores for k=8 is 0.7963958661798161\n",
      "cv scores for k=9 is 0.7993907132554077\n",
      "cv scores for k=10 is 0.7988064145747005\n",
      "cv scores for k=11 is 0.7928565017446847\n",
      "cv scores for k=12 is 0.7994121396254967\n",
      "cv scores for k=13 is 0.7911051350869723\n",
      "cv scores for k=14 is 0.795374322696998\n",
      "cv scores for k=15 is 0.7820718690491231\n",
      "cv scores for k=16 is 0.7894972150493632\n",
      "cv scores for k=17 is 0.7802404802013365\n",
      "cv scores for k=18 is 0.7875258543696313\n",
      "cv scores for k=19 is 0.7792454766308342\n",
      "cv scores for k=20 is 0.7870901969298033\n",
      "best result is 7 neighbors\n"
     ]
    }
   ],
   "source": [
    "# UNDERSAMPLE MAJORITY\n",
    "import random\n",
    "random.seed(1212)\n",
    "\n",
    "train_data_neg = train_data[train_data['Exited'] == 0] # this is the majority\n",
    "train_data_pos = train_data[train_data['Exited'] == 1] # this is the minority\n",
    "\n",
    "samples_to_remove = len(train_data_neg) - len(train_data_pos)\n",
    "\n",
    "rand_index = random.sample(list(train_data_neg['id']), samples_to_remove)\n",
    "\n",
    "train_data_balanced_1 = train_data[~train_data['id'].isin(rand_index)]\n",
    "\n",
    "# Get new X_train and y_train\n",
    "X_train_balanced, y_train_balanced, X_test = preprocess_data(train_data_balanced_1, test_data)\n",
    "\n",
    "k_best = hparam_tune(20, 'euclidean',  X_train_balanced, y_train_balanced)\n",
    "balanced_1_predictions = make_prediction(k_best, X_train_balanced, y_train_balanced)\n"
   ]
  },
  {
   "cell_type": "code",
   "execution_count": 18,
   "metadata": {},
   "outputs": [
    {
     "name": "stdout",
     "output_type": "stream",
     "text": [
      "cv scores for k=1 is 0.7872382799243968\n",
      "cv scores for k=2 is 0.7872382799243968\n",
      "cv scores for k=3 is 0.8056358270528111\n",
      "cv scores for k=4 is 0.8102098437641343\n",
      "cv scores for k=5 is 0.8275862037984186\n",
      "cv scores for k=6 is 0.8213402517735935\n",
      "cv scores for k=7 is 0.8214284030384629\n",
      "cv scores for k=8 is 0.8266439668106169\n",
      "cv scores for k=9 is 0.8200016535116754\n",
      "cv scores for k=10 is 0.8238991406920478\n",
      "cv scores for k=11 is 0.8213796596566851\n",
      "cv scores for k=12 is 0.8149125914829922\n",
      "cv scores for k=13 is 0.8158673053564417\n",
      "cv scores for k=14 is 0.8200265634495807\n",
      "cv scores for k=15 is 0.8159889428768906\n",
      "cv scores for k=16 is 0.8193300124277384\n",
      "cv scores for k=17 is 0.8143879435841045\n",
      "cv scores for k=18 is 0.8215750230545644\n",
      "cv scores for k=19 is 0.8099824376280539\n",
      "cv scores for k=20 is 0.81520386505682\n",
      "best result is 5 neighbors\n"
     ]
    }
   ],
   "source": [
    "# OVERSAMPLE MINORITY\n",
    "train_data_neg = train_data[train_data['Exited'] == 0] # this is the majority\n",
    "train_data_pos = train_data[train_data['Exited'] == 1] # this is the minority\n",
    "\n",
    "samples_to_add = len(train_data_neg) - len(train_data_pos)\n",
    "\n",
    "oversampled_minority = train_data_pos.sample(n=samples_to_add, replace=True, random_state=1212)\n",
    "train_data_balanced_2 = pd.concat([train_data_neg, train_data_pos, oversampled_minority])\n",
    "train_data_balanced_2 = train_data_balanced_2.sample(frac=1, random_state=1212).reset_index(drop=True)\n",
    "\n",
    "X_train_balanced, y_train_balanced, X_test = preprocess_data(train_data_balanced_2, test_data)\n",
    "\n",
    "k_best = hparam_tune(20, 'euclidean', X_train_balanced, y_train_balanced)\n",
    "balanced_2_predictions = make_prediction(k_best, X_train_balanced, y_train_balanced)\n"
   ]
  },
  {
   "cell_type": "markdown",
   "metadata": {},
   "source": [
    "## Dropping Features"
   ]
  },
  {
   "cell_type": "code",
   "execution_count": 22,
   "metadata": {},
   "outputs": [],
   "source": [
    "def preprocess_data_new(train_data, test_data, columns_to_keep):\n",
    "    \"\"\"\n",
    "        train_data is full train data as pandas df\n",
    "        same for test_data\n",
    "\n",
    "        columns_to_keep is an array of strings of columns to keep from train and test data\n",
    "\n",
    "        Apply standardscalar to num\n",
    "        and categorical encoder to int\n",
    "    \"\"\"\n",
    "\n",
    "    X_train = train_data.iloc[:, 3:13]\n",
    "    y_train = train_data['Exited']\n",
    "\n",
    "    X_test = test_data.iloc[:, 3:13]\n",
    "\n",
    "    # SELECT NUM/CAT FOR TRAINING\n",
    "    numerical_cols_train = X_train.select_dtypes(include=['float64', 'int64']).columns\n",
    "    categorical_cols_train = X_train.select_dtypes(include=['object']).columns\n",
    "\n",
    "    # SELECT NUM/CAT FOR TESTING\n",
    "    numerical_cols_test = X_test.select_dtypes(include=['float64', 'int64']).columns\n",
    "    categorical_cols_test = X_test.select_dtypes(include=['object']).columns\n",
    "    \n",
    "    X_train_scaled = standard_scaler(X_train, numerical_cols_train)\n",
    "    X_test_scaled = standard_scaler(X_test, numerical_cols_test)\n",
    "\n",
    "    X_train_processed = one_hot_encode(X_train_scaled, categorical_cols_train)[columns_to_keep]\n",
    "    X_test_processed = one_hot_encode(X_test_scaled, categorical_cols_test)[columns_to_keep]\n",
    "    \n",
    "    return X_train_processed.values, y_train.values, X_test_processed.values"
   ]
  },
  {
   "cell_type": "code",
   "execution_count": 29,
   "metadata": {},
   "outputs": [
    {
     "name": "stdout",
     "output_type": "stream",
     "text": [
      "cv scores for k=1 is 0.8284362255118047\n",
      "cv scores for k=2 is 0.8284362255118047\n",
      "cv scores for k=3 is 0.8119776481558472\n",
      "cv scores for k=4 is 0.825337474396329\n",
      "cv scores for k=5 is 0.8064979692056982\n",
      "cv scores for k=6 is 0.8242242298570126\n",
      "cv scores for k=7 is 0.819937515758307\n",
      "cv scores for k=8 is 0.8206709816499395\n",
      "cv scores for k=9 is 0.8157889403237697\n",
      "cv scores for k=10 is 0.819613086804792\n",
      "cv scores for k=11 is 0.8168783592246252\n",
      "cv scores for k=12 is 0.8194999368827036\n",
      "cv scores for k=13 is 0.808532372585747\n",
      "cv scores for k=14 is 0.8138859859676467\n",
      "cv scores for k=15 is 0.8110843804935488\n",
      "cv scores for k=16 is 0.8221276638371011\n",
      "cv scores for k=17 is 0.8184793367930393\n",
      "cv scores for k=18 is 0.8210572686591833\n",
      "cv scores for k=19 is 0.8116100892447585\n",
      "cv scores for k=20 is 0.8223594500013547\n",
      "best result is 1 neighbors\n"
     ]
    }
   ],
   "source": [
    "# based on ... manually trying a bunch of combinations\n",
    "columns_to_keep = ['Age', 'Balance', 'EstimatedSalary', 'CreditScore', 'NumOfProducts']\n",
    "\n",
    "columns_to_keep = ['Age', 'IsActiveMember', 'CreditScore', 'Balance', 'NumOfProducts']\n",
    "\n",
    "columns_to_keep = ['Age', 'IsActiveMember', 'CreditScore', 'Balance', 'NumOfProducts']\n",
    "\n",
    "\n",
    "X_train_new, y_train_new, X_test = preprocess_data_new(train_data_balanced_2, pd.read_csv(\"test.csv\"), columns_to_keep)\n",
    "\n",
    "k_best = hparam_tune(20, 'euclidean', X_train_new, y_train_new)"
   ]
  },
  {
   "cell_type": "code",
   "execution_count": 30,
   "metadata": {},
   "outputs": [],
   "source": [
    "new_predictions = make_prediction(k_best, X_train_new, y_train_new)"
   ]
  },
  {
   "cell_type": "markdown",
   "metadata": {},
   "source": [
    "## Apply SVD"
   ]
  },
  {
   "cell_type": "code",
   "execution_count": 55,
   "metadata": {},
   "outputs": [],
   "source": [
    "import numpy as np\n",
    "import pandas as pd\n",
    "\n",
    "def apply_svd_custom(X_train, X_test, n_components):\n",
    "    # Ensure the data is numeric and handle non-numeric data\n",
    "    X_train = pd.DataFrame(X_train).apply(pd.to_numeric, errors='coerce').fillna(0).to_numpy().astype(np.float64)\n",
    "    X_test = pd.DataFrame(X_test).apply(pd.to_numeric, errors='coerce').fillna(0).to_numpy().astype(np.float64)\n",
    "    \n",
    "    # Apply SVD\n",
    "    U_train, S_train, Vt_train = get_svd(X_train, n_components)\n",
    "    U_test, S_test, Vt_test = get_svd(X_test, n_components)\n",
    "\n",
    "    # Dimension mismatch checks\n",
    "    print(f\"U_train dims are: {U_train.shape}\")\n",
    "    print(f\"S_train dims are: {S_train.shape}\")\n",
    "    print(f\"Vt_train dims are: {Vt_train.shape}\")\n",
    "    \n",
    "    # Reconstruct matrices with reduced dimensions\n",
    "    train_reduced = np.dot(U_train, np.dot(S_train, Vt_train))\n",
    "    test_reduced = np.dot(U_test, np.dot(S_test, Vt_test))\n",
    "\n",
    "    return train_reduced, test_reduced\n",
    "\n",
    "def get_A_t_A(dataset):\n",
    "    A_transpose = np.transpose(dataset)\n",
    "    A_t_A = np.dot(A_transpose, dataset)\n",
    "    print(f\"A_t_A type: {A_t_A.dtype}\")  # Debug: Check the type of A_t_A\n",
    "    return A_t_A\n",
    "\n",
    "def get_s_matrix(A_t_A, n_components):\n",
    "    # Ensure A_t_A is a float64 array\n",
    "    A_t_A = A_t_A.astype(np.float64)\n",
    "\n",
    "    # Check for NaNs and Infs\n",
    "    if not np.isfinite(A_t_A).all():\n",
    "        raise ValueError(\"Input matrix contains NaN or infinity values.\")\n",
    "\n",
    "    # Get eigenvalues of A^T A\n",
    "    eigenvalues, _ = np.linalg.eig(A_t_A)\n",
    "\n",
    "    # Sort eigenvalues in descending order\n",
    "    eigenvalues_desc = np.sort(eigenvalues)[::-1]\n",
    "\n",
    "    # Ensure all eigenvalues are non-negative\n",
    "    eigenvalues_desc = np.real(eigenvalues_desc)\n",
    "    eigenvalues_desc = np.where(eigenvalues_desc < 0, 0, eigenvalues_desc)\n",
    "\n",
    "    # Take the square root of the eigenvalues to get singular values\n",
    "    singular_values = np.sqrt(eigenvalues_desc[:n_components])\n",
    "\n",
    "    # Create a diagonal matrix of singular values\n",
    "    S_matrix = np.diag(singular_values)\n",
    "\n",
    "    return S_matrix\n",
    "\n",
    "def get_V_t_matrix(A_t_A, n_components):\n",
    "    # Compute eigenvalues and eigenvectors of A_t_A\n",
    "    eigenvalues, eigenvectors = np.linalg.eig(A_t_A)\n",
    "\n",
    "    # Get indices of descending eigenvalues\n",
    "    indx_desc = np.argsort(eigenvalues)[::-1]\n",
    "\n",
    "    # Sort eigenvectors in the same order as descending eigenvalues\n",
    "    v_matrix = eigenvectors[:, indx_desc]\n",
    "\n",
    "    # Take the real part and reduce to n_components\n",
    "    v_matrix = np.real(v_matrix)\n",
    "    v_matrix_reduced = v_matrix[:, :n_components]\n",
    "\n",
    "    # Transpose the matrix to get V^T\n",
    "    v_matrix_transpose = np.transpose(v_matrix_reduced)\n",
    "\n",
    "    return v_matrix_transpose\n",
    "\n",
    "def get_U_matrix(dataset, V_t, S):\n",
    "    # U = A * V * S_inv\n",
    "    S_inv = np.linalg.pinv(S)\n",
    "    U_matrix = np.dot(dataset, np.dot(np.transpose(V_t), S_inv))\n",
    "\n",
    "    return U_matrix\n",
    "\n",
    "def get_svd(dataset, n_components):\n",
    "    A_t_A = get_A_t_A(dataset)\n",
    "\n",
    "    # Get first n columns of S\n",
    "    S_matrix = get_s_matrix(A_t_A, n_components)\n",
    "\n",
    "    # Get the reduced V^T matrix\n",
    "    V_t_matrix = get_V_t_matrix(A_t_A, n_components)\n",
    "\n",
    "    # Select first n columns of U\n",
    "    U_matrix = get_U_matrix(dataset, V_t_matrix, S_matrix)\n",
    "\n",
    "    return U_matrix, S_matrix, V_t_matrix\n"
   ]
  },
  {
   "cell_type": "code",
   "execution_count": 67,
   "metadata": {},
   "outputs": [
    {
     "name": "stdout",
     "output_type": "stream",
     "text": [
      "A_t_A type: float64\n",
      "A_t_A type: float64\n",
      "U_train dims are: (15000, 2)\n",
      "S_train dims are: (2, 2)\n",
      "Vt_train dims are: (2, 11)\n"
     ]
    }
   ],
   "source": [
    "# A = USV^T\n",
    "X_train_svd, X_test_svd  = apply_svd_custom(X_train, X_test, 2)"
   ]
  },
  {
   "cell_type": "code",
   "execution_count": 68,
   "metadata": {},
   "outputs": [
    {
     "name": "stdout",
     "output_type": "stream",
     "text": [
      "cv scores for k=1 is 0.6704704530969596\n",
      "cv scores for k=2 is 0.6704704530969596\n",
      "cv scores for k=3 is 0.6790075914774708\n",
      "cv scores for k=4 is 0.681545094360975\n",
      "cv scores for k=5 is 0.6873488643914674\n",
      "best result is 5 neighbors\n"
     ]
    }
   ],
   "source": [
    "# Didn't work well\n",
    "hparam_tune(5, 'euclidean', X_train_svd, y_train)"
   ]
  },
  {
   "cell_type": "markdown",
   "metadata": {},
   "source": [
    "## Feature Extraction"
   ]
  },
  {
   "cell_type": "code",
   "execution_count": 234,
   "metadata": {},
   "outputs": [],
   "source": [
    "train_data = pd.read_csv(\"train.csv\")\n",
    "test_data = pd.read_csv(\"test.csv\")\n",
    "\n",
    "train_data = train_data.drop(['CustomerId', 'Surname', 'id'], axis=1)\n",
    "test_data = test_data.drop(['CustomerId', 'Surname', 'id'], axis=1)\n",
    "\n",
    "def feature_extract(df):\n",
    "    # df['BalanceToSalaryRatio'] = df['Balance'] / df['EstimatedSalary']\n",
    "    # df = df.drop(columns=['Balance', 'EstimatedSalary'], axis=1)\n",
    "\n",
    "    # df['TenureAgeRatio'] = df['Tenure'] / df['Age']\n",
    "    # df = df.drop(columns=['Tenure', 'Age'], axis=1)\n",
    "\n",
    "    df['TotalActivity'] = df['NumOfProducts'] + df['HasCrCard'] + df['IsActiveMember']\n",
    "    df = df.drop(columns=['NumOfProducts', 'HasCrCard', 'IsActiveMember'], axis=1)\n",
    "\n",
    "\n",
    "    return df\n",
    "\n",
    "train_data = feature_extract(train_data)\n",
    "test_data = feature_extract(test_data)\n",
    "\n",
    "# OVERSAMPLE MINORITY\n",
    "train_data_neg = train_data[train_data['Exited'] == 0] # this is the majority\n",
    "train_data_pos = train_data[train_data['Exited'] == 1] # this is the minority\n",
    "\n",
    "# # DROP ROWS THAT HAVE BALANCE = 0 AND DID NOT EXIT\n",
    "# train_data_neg = train_data_neg[~((train_data_neg['Balance'] == 0) & (train_data_neg['Exited'] == 0))]\n",
    "\n",
    "samples_to_add = len(train_data_neg) - len(train_data_pos)\n",
    "\n",
    "oversampled_minority = train_data_pos.sample(n=samples_to_add, replace=True, random_state=1212)\n",
    "train_data_balanced = pd.concat([train_data_neg, train_data_pos, oversampled_minority])\n",
    "train_data_balanced = train_data_balanced.sample(frac=1, random_state=1212).reset_index(drop=True)\n",
    "\n",
    "train_data_balanced = train_data_balanced.drop(columns=['Balance', 'Tenure', 'EstimatedSalary'], axis=1)\n",
    "test_data = test_data.drop(columns=['Balance', 'Tenure', 'EstimatedSalary'], axis=1)\n",
    "\n",
    "X_train_balanced, y_train_balanced, X_test = preprocess_data(train_data_balanced, test_data)\n"
   ]
  },
  {
   "cell_type": "code",
   "execution_count": 233,
   "metadata": {},
   "outputs": [
    {
     "data": {
      "text/plain": [
       "(10000, 9)"
      ]
     },
     "execution_count": 233,
     "metadata": {},
     "output_type": "execute_result"
    }
   ],
   "source": [
    "X_train_balanced.shape"
   ]
  },
  {
   "cell_type": "code",
   "execution_count": 228,
   "metadata": {},
   "outputs": [
    {
     "data": {
      "text/plain": [
       "(23934,)"
      ]
     },
     "execution_count": 228,
     "metadata": {},
     "output_type": "execute_result"
    }
   ],
   "source": [
    "y_train_balanced.shape"
   ]
  },
  {
   "cell_type": "code",
   "execution_count": 204,
   "metadata": {},
   "outputs": [
    {
     "name": "stdout",
     "output_type": "stream",
     "text": [
      "cv scores for k=1 is 0.7640758303668094\n",
      "cv scores for k=2 is 0.7640758303668094\n",
      "cv scores for k=3 is 0.7799673843861004\n",
      "cv scores for k=4 is 0.7833831681089535\n",
      "cv scores for k=5 is 0.8083262710941191\n",
      "cv scores for k=6 is 0.8102246690383053\n",
      "cv scores for k=7 is 0.8104154249053014\n",
      "cv scores for k=8 is 0.8112164291727331\n",
      "cv scores for k=9 is 0.8091756025959542\n",
      "cv scores for k=10 is 0.8165997817995596\n",
      "cv scores for k=11 is 0.812272174178671\n",
      "cv scores for k=12 is 0.8083934945213078\n",
      "cv scores for k=13 is 0.8081137992136554\n",
      "cv scores for k=14 is 0.8158549464360684\n",
      "cv scores for k=15 is 0.8171260484304963\n",
      "cv scores for k=16 is 0.813417703947876\n",
      "cv scores for k=17 is 0.8085990540371787\n",
      "cv scores for k=18 is 0.8133726915503937\n",
      "cv scores for k=19 is 0.8104067278936933\n",
      "cv scores for k=20 is 0.816914169915154\n",
      "cv scores for k=21 is 0.8181492745850413\n",
      "cv scores for k=22 is 0.8179968975025546\n",
      "cv scores for k=23 is 0.8179511952286299\n",
      "cv scores for k=24 is 0.8161080638355086\n",
      "cv scores for k=25 is 0.8141299055497262\n",
      "cv scores for k=26 is 0.8199326047395331\n",
      "cv scores for k=27 is 0.8140378856915034\n",
      "cv scores for k=28 is 0.8199314099964029\n",
      "cv scores for k=29 is 0.817110920637627\n",
      "cv scores for k=30 is 0.8218496997630427\n",
      "cv scores for k=31 is 0.8159327331036694\n",
      "cv scores for k=32 is 0.8149685871211373\n",
      "cv scores for k=33 is 0.8121216758539761\n",
      "cv scores for k=34 is 0.8146781604289048\n",
      "cv scores for k=35 is 0.8149312108829412\n",
      "cv scores for k=36 is 0.8169735494302\n",
      "cv scores for k=37 is 0.8138963524951415\n",
      "cv scores for k=38 is 0.81787563857865\n",
      "cv scores for k=39 is 0.815887698981815\n",
      "cv scores for k=40 is 0.8174177616483582\n",
      "best result is 30 neighbors\n"
     ]
    }
   ],
   "source": [
    "# WITH TotalActivity\n",
    "k_best = hparam_tune(40, 'euclidean', X_train_balanced, y_train_balanced)"
   ]
  },
  {
   "cell_type": "code",
   "execution_count": 223,
   "metadata": {},
   "outputs": [
    {
     "name": "stdout",
     "output_type": "stream",
     "text": [
      "cv scores for k=1 is 0.7640758303668094\n",
      "cv scores for k=2 is 0.7640758303668094\n"
     ]
    },
    {
     "ename": "KeyboardInterrupt",
     "evalue": "",
     "output_type": "error",
     "traceback": [
      "\u001b[0;31m---------------------------------------------------------------------------\u001b[0m",
      "\u001b[0;31mKeyboardInterrupt\u001b[0m                         Traceback (most recent call last)",
      "Cell \u001b[0;32mIn[223], line 2\u001b[0m\n\u001b[1;32m      1\u001b[0m \u001b[38;5;66;03m# WITH BalanceToSalaryRatio ADDED\u001b[39;00m\n\u001b[0;32m----> 2\u001b[0m k_best \u001b[38;5;241m=\u001b[39m \u001b[43mhparam_tune\u001b[49m\u001b[43m(\u001b[49m\u001b[38;5;241;43m20\u001b[39;49m\u001b[43m,\u001b[49m\u001b[43m \u001b[49m\u001b[38;5;124;43m'\u001b[39;49m\u001b[38;5;124;43meuclidean\u001b[39;49m\u001b[38;5;124;43m'\u001b[39;49m\u001b[43m,\u001b[49m\u001b[43m \u001b[49m\u001b[43mX_train_balanced\u001b[49m\u001b[43m,\u001b[49m\u001b[43m \u001b[49m\u001b[43my_train_balanced\u001b[49m\u001b[43m)\u001b[49m\n",
      "Cell \u001b[0;32mIn[116], line 12\u001b[0m, in \u001b[0;36mhparam_tune\u001b[0;34m(max_range, distance_metric, X_train, y_train)\u001b[0m\n\u001b[1;32m      9\u001b[0m knn \u001b[38;5;241m=\u001b[39m KNN(k\u001b[38;5;241m=\u001b[39mn_neighbors, distance_metric\u001b[38;5;241m=\u001b[39mdistance_metric)\n\u001b[1;32m     10\u001b[0m knn\u001b[38;5;241m.\u001b[39mfit(X_train, y_train)\n\u001b[0;32m---> 12\u001b[0m cv_score \u001b[38;5;241m=\u001b[39m \u001b[43mcross_validate\u001b[49m\u001b[43m(\u001b[49m\u001b[43mX_train\u001b[49m\u001b[43m[\u001b[49m\u001b[43m:\u001b[49m\u001b[38;5;241;43m1000\u001b[39;49m\u001b[43m]\u001b[49m\u001b[43m,\u001b[49m\u001b[43m \u001b[49m\u001b[43my_train\u001b[49m\u001b[43m[\u001b[49m\u001b[43m:\u001b[49m\u001b[38;5;241;43m1000\u001b[39;49m\u001b[43m]\u001b[49m\u001b[43m,\u001b[49m\u001b[43m \u001b[49m\u001b[43mknn\u001b[49m\u001b[43m)\u001b[49m\n\u001b[1;32m     13\u001b[0m all_cv_scores\u001b[38;5;241m.\u001b[39mappend(cv_score)\n\u001b[1;32m     14\u001b[0m \u001b[38;5;28mprint\u001b[39m(\u001b[38;5;124mf\u001b[39m\u001b[38;5;124m\"\u001b[39m\u001b[38;5;124mcv scores for k=\u001b[39m\u001b[38;5;132;01m{\u001b[39;00mn_neighbors\u001b[38;5;132;01m}\u001b[39;00m\u001b[38;5;124m is \u001b[39m\u001b[38;5;132;01m{\u001b[39;00mcv_score\u001b[38;5;132;01m}\u001b[39;00m\u001b[38;5;124m\"\u001b[39m)\n",
      "Cell \u001b[0;32mIn[111], line 60\u001b[0m, in \u001b[0;36mcross_validate\u001b[0;34m(X, y, knn, n_splits)\u001b[0m\n\u001b[1;32m     56\u001b[0m y_train, y_val \u001b[38;5;241m=\u001b[39m y[train_index], y[val_index]\n\u001b[1;32m     58\u001b[0m knn\u001b[38;5;241m.\u001b[39mfit(X_train, y_train)\n\u001b[0;32m---> 60\u001b[0m y_val_pred \u001b[38;5;241m=\u001b[39m \u001b[43mknn\u001b[49m\u001b[38;5;241;43m.\u001b[39;49m\u001b[43mpredict\u001b[49m\u001b[43m(\u001b[49m\u001b[43mX_val\u001b[49m\u001b[43m)\u001b[49m\n\u001b[1;32m     62\u001b[0m auc_score \u001b[38;5;241m=\u001b[39m compute_roc_auc(y_val, y_val_pred)\n\u001b[1;32m     63\u001b[0m cv_scores\u001b[38;5;241m.\u001b[39mappend(auc_score)\n",
      "Cell \u001b[0;32mIn[103], line 18\u001b[0m, in \u001b[0;36mKNN.predict\u001b[0;34m(self, X)\u001b[0m\n\u001b[1;32m     15\u001b[0m predictions \u001b[38;5;241m=\u001b[39m []\n\u001b[1;32m     16\u001b[0m \u001b[38;5;28;01mfor\u001b[39;00m i, row \u001b[38;5;129;01min\u001b[39;00m \u001b[38;5;28menumerate\u001b[39m(X):\n\u001b[1;32m     17\u001b[0m     \u001b[38;5;66;03m# print(f\"predicting {i} out of {len(X)}\")\u001b[39;00m\n\u001b[0;32m---> 18\u001b[0m     predictions\u001b[38;5;241m.\u001b[39mappend(\u001b[38;5;28;43mself\u001b[39;49m\u001b[38;5;241;43m.\u001b[39;49m\u001b[43mpredict_single_point\u001b[49m\u001b[43m(\u001b[49m\u001b[43mrow\u001b[49m\u001b[43m)\u001b[49m)\n\u001b[1;32m     19\u001b[0m     \u001b[38;5;66;03m# print(\"====================================================\")\u001b[39;00m\n\u001b[1;32m     20\u001b[0m \u001b[38;5;28;01mreturn\u001b[39;00m np\u001b[38;5;241m.\u001b[39marray(predictions)\n",
      "Cell \u001b[0;32mIn[103], line 24\u001b[0m, in \u001b[0;36mKNN.predict_single_point\u001b[0;34m(self, x)\u001b[0m\n\u001b[1;32m     22\u001b[0m \u001b[38;5;28;01mdef\u001b[39;00m \u001b[38;5;21mpredict_single_point\u001b[39m(\u001b[38;5;28mself\u001b[39m, x):\n\u001b[1;32m     23\u001b[0m     \u001b[38;5;66;03m# compute distances from the test point to all training points\u001b[39;00m\n\u001b[0;32m---> 24\u001b[0m     distances \u001b[38;5;241m=\u001b[39m [\u001b[38;5;28mself\u001b[39m\u001b[38;5;241m.\u001b[39mcompute_distance(x, x_train_point) \u001b[38;5;28;01mfor\u001b[39;00m x_train_point \u001b[38;5;129;01min\u001b[39;00m \u001b[38;5;28mself\u001b[39m\u001b[38;5;241m.\u001b[39mX_train]\n\u001b[1;32m     26\u001b[0m     \u001b[38;5;66;03m# get the indices of the k nearest neighbors\u001b[39;00m\n\u001b[1;32m     27\u001b[0m     k_indices \u001b[38;5;241m=\u001b[39m np\u001b[38;5;241m.\u001b[39margsort(distances)[:\u001b[38;5;28mself\u001b[39m\u001b[38;5;241m.\u001b[39mk]\n",
      "Cell \u001b[0;32mIn[103], line 24\u001b[0m, in \u001b[0;36m<listcomp>\u001b[0;34m(.0)\u001b[0m\n\u001b[1;32m     22\u001b[0m \u001b[38;5;28;01mdef\u001b[39;00m \u001b[38;5;21mpredict_single_point\u001b[39m(\u001b[38;5;28mself\u001b[39m, x):\n\u001b[1;32m     23\u001b[0m     \u001b[38;5;66;03m# compute distances from the test point to all training points\u001b[39;00m\n\u001b[0;32m---> 24\u001b[0m     distances \u001b[38;5;241m=\u001b[39m [\u001b[38;5;28;43mself\u001b[39;49m\u001b[38;5;241;43m.\u001b[39;49m\u001b[43mcompute_distance\u001b[49m\u001b[43m(\u001b[49m\u001b[43mx\u001b[49m\u001b[43m,\u001b[49m\u001b[43m \u001b[49m\u001b[43mx_train_point\u001b[49m\u001b[43m)\u001b[49m \u001b[38;5;28;01mfor\u001b[39;00m x_train_point \u001b[38;5;129;01min\u001b[39;00m \u001b[38;5;28mself\u001b[39m\u001b[38;5;241m.\u001b[39mX_train]\n\u001b[1;32m     26\u001b[0m     \u001b[38;5;66;03m# get the indices of the k nearest neighbors\u001b[39;00m\n\u001b[1;32m     27\u001b[0m     k_indices \u001b[38;5;241m=\u001b[39m np\u001b[38;5;241m.\u001b[39margsort(distances)[:\u001b[38;5;28mself\u001b[39m\u001b[38;5;241m.\u001b[39mk]\n",
      "Cell \u001b[0;32mIn[103], line 42\u001b[0m, in \u001b[0;36mKNN.compute_distance\u001b[0;34m(self, X1, X2)\u001b[0m\n\u001b[1;32m     40\u001b[0m \u001b[38;5;28;01mdef\u001b[39;00m \u001b[38;5;21mcompute_distance\u001b[39m(\u001b[38;5;28mself\u001b[39m, X1, X2):\n\u001b[1;32m     41\u001b[0m     \u001b[38;5;28;01mif\u001b[39;00m \u001b[38;5;28mself\u001b[39m\u001b[38;5;241m.\u001b[39mdistance_metric \u001b[38;5;241m==\u001b[39m \u001b[38;5;124m'\u001b[39m\u001b[38;5;124meuclidean\u001b[39m\u001b[38;5;124m'\u001b[39m:\n\u001b[0;32m---> 42\u001b[0m         \u001b[38;5;28;01mreturn\u001b[39;00m \u001b[43mnp\u001b[49m\u001b[38;5;241;43m.\u001b[39;49m\u001b[43mlinalg\u001b[49m\u001b[38;5;241;43m.\u001b[39;49m\u001b[43mnorm\u001b[49m\u001b[43m(\u001b[49m\u001b[43mX1\u001b[49m\u001b[43m \u001b[49m\u001b[38;5;241;43m-\u001b[39;49m\u001b[43m \u001b[49m\u001b[43mX2\u001b[49m\u001b[43m)\u001b[49m\n\u001b[1;32m     44\u001b[0m     \u001b[38;5;28;01melif\u001b[39;00m \u001b[38;5;28mself\u001b[39m\u001b[38;5;241m.\u001b[39mdistance_metric \u001b[38;5;241m==\u001b[39m \u001b[38;5;124m'\u001b[39m\u001b[38;5;124mmanhattan\u001b[39m\u001b[38;5;124m'\u001b[39m:\n\u001b[1;32m     45\u001b[0m         \u001b[38;5;28;01mreturn\u001b[39;00m np\u001b[38;5;241m.\u001b[39msum(np\u001b[38;5;241m.\u001b[39mabs(X1 \u001b[38;5;241m-\u001b[39m X2))\n",
      "File \u001b[0;32m/opt/homebrew/lib/python3.10/site-packages/numpy/linalg/_linalg.py:2797\u001b[0m, in \u001b[0;36mnorm\u001b[0;34m(x, ord, axis, keepdims)\u001b[0m\n\u001b[1;32m   2795\u001b[0m \u001b[38;5;28;01melse\u001b[39;00m:\n\u001b[1;32m   2796\u001b[0m     sqnorm \u001b[38;5;241m=\u001b[39m x\u001b[38;5;241m.\u001b[39mdot(x)\n\u001b[0;32m-> 2797\u001b[0m ret \u001b[38;5;241m=\u001b[39m \u001b[43msqrt\u001b[49m\u001b[43m(\u001b[49m\u001b[43msqnorm\u001b[49m\u001b[43m)\u001b[49m\n\u001b[1;32m   2798\u001b[0m \u001b[38;5;28;01mif\u001b[39;00m keepdims:\n\u001b[1;32m   2799\u001b[0m     ret \u001b[38;5;241m=\u001b[39m ret\u001b[38;5;241m.\u001b[39mreshape(ndim\u001b[38;5;241m*\u001b[39m[\u001b[38;5;241m1\u001b[39m])\n",
      "\u001b[0;31mKeyboardInterrupt\u001b[0m: "
     ]
    }
   ],
   "source": [
    "# WITH BalanceToSalaryRatio ADDED\n",
    "k_best = hparam_tune(20, 'euclidean', X_train_balanced, y_train_balanced)"
   ]
  },
  {
   "cell_type": "markdown",
   "metadata": {},
   "source": [
    "## Save Submission"
   ]
  },
  {
   "cell_type": "code",
   "execution_count": 235,
   "metadata": {},
   "outputs": [],
   "source": [
    "new_predictions = make_prediction(k_best, X_train_balanced, y_train_balanced)"
   ]
  },
  {
   "cell_type": "code",
   "execution_count": 193,
   "metadata": {},
   "outputs": [],
   "source": [
    "pd.DataFrame({'id': pd.read_csv('test.csv')['id'], 'Exited': new_predictions}).to_csv('submissions.csv', index=False)"
   ]
  }
 ],
 "metadata": {
  "kernelspec": {
   "display_name": "Python 3",
   "language": "python",
   "name": "python3"
  },
  "language_info": {
   "codemirror_mode": {
    "name": "ipython",
    "version": 3
   },
   "file_extension": ".py",
   "mimetype": "text/x-python",
   "name": "python",
   "nbconvert_exporter": "python",
   "pygments_lexer": "ipython3",
   "version": "3.10.15"
  }
 },
 "nbformat": 4,
 "nbformat_minor": 2
}
